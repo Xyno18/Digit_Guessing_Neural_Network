{
 "cells": [
  {
   "cell_type": "code",
   "execution_count": 1,
   "metadata": {},
   "outputs": [
    {
     "name": "stdout",
     "output_type": "stream",
     "text": [
      "Loaded model from disk\n"
     ]
    }
   ],
   "source": [
    "from keras.models import model_from_json\n",
    "import numpy as np\n",
    "from keras.preprocessing import image\n",
    "# load json and create model\n",
    "json_file = open('model.json', 'r')\n",
    "loaded_model_json = json_file.read()\n",
    "json_file.close()\n",
    "cnn = model_from_json(loaded_model_json)\n",
    "# load weights into new model\n",
    "cnn.load_weights(\"model.h5\")\n",
    "print(\"Loaded model from disk\")"
   ]
  },
  {
   "cell_type": "code",
   "execution_count": 2,
   "metadata": {},
   "outputs": [],
   "source": [
    "cnn.compile(optimizer = 'adam', loss = 'categorical_crossentropy', metrics = ['accuracy'])"
   ]
  },
  {
   "cell_type": "code",
   "execution_count": 3,
   "metadata": {},
   "outputs": [],
   "source": [
    "##pip install pygame"
   ]
  },
  {
   "cell_type": "code",
   "execution_count": 4,
   "metadata": {},
   "outputs": [
    {
     "name": "stdout",
     "output_type": "stream",
     "text": [
      "pygame 1.9.6\n",
      "Hello from the pygame community. https://www.pygame.org/contribute.html\n"
     ]
    }
   ],
   "source": [
    "import pygame, sys\n",
    "from pygame.locals import *\n",
    "import ctypes"
   ]
  },
  {
   "cell_type": "code",
   "execution_count": 8,
   "metadata": {},
   "outputs": [
    {
     "ename": "SystemExit",
     "evalue": "",
     "output_type": "error",
     "traceback": [
      "An exception has occurred, use %tb to see the full traceback.\n",
      "\u001b[1;31mSystemExit\u001b[0m\n"
     ]
    }
   ],
   "source": [
    "def main():\n",
    "    pygame.init()\n",
    "    BLACK = (255, 255, 255)\n",
    "    WHITE = (0, 0, 0)\n",
    "\n",
    "    mouse_position = (0, 0)\n",
    "    drawing = False\n",
    "    screen = pygame.display.set_mode((280,280))\n",
    "    screen.fill(WHITE)\n",
    "    pygame.display.set_caption(\"Number Pad\")\n",
    "    fname=\"number.jpg\"\n",
    "    \n",
    "    while True:\n",
    "        for event in pygame.event.get():\n",
    "            if event.type == QUIT:\n",
    "                pygame.quit()\n",
    "                sys.exit()\n",
    "            elif event.type == MOUSEMOTION:\n",
    "                if (drawing):\n",
    "                    mouse_position = pygame.mouse.get_pos()\n",
    "                    pygame.draw.circle(screen, BLACK, mouse_position,10, 10)\n",
    "            elif event.type == MOUSEBUTTONUP:\n",
    "                mouse_position = (0, 0)\n",
    "                drawing = False\n",
    "            elif event.type == MOUSEBUTTONDOWN:\n",
    "                drawing = True\n",
    "            elif event.type == KEYUP:\n",
    "                if event.key == pygame.K_BACKSPACE:\n",
    "                    screen.fill(WHITE)\n",
    "                elif event.key == pygame.K_RETURN:\n",
    "                    pygame.image.save(screen,fname)\n",
    "                    test_image = image.load_img('number.jpg',color_mode='grayscale', target_size = (28, 28))\n",
    "                    test_image = image.img_to_array(test_image)\n",
    "                    test_image = np.expand_dims(test_image, axis = 0)\n",
    "                    result = cnn.predict(test_image)\n",
    "                    num = result.argmax()\n",
    "                    ctypes.windll.user32.MessageBoxW(0,\"The machine guessed: \"+str(num), \"Number Recognition\",0)\n",
    "\n",
    "        pygame.display.update()\n",
    "\n",
    "if __name__ == \"__main__\":\n",
    "    main()"
   ]
  }
 ],
 "metadata": {
  "kernelspec": {
   "display_name": "Python 3",
   "language": "python",
   "name": "python3"
  },
  "language_info": {
   "codemirror_mode": {
    "name": "ipython",
    "version": 3
   },
   "file_extension": ".py",
   "mimetype": "text/x-python",
   "name": "python",
   "nbconvert_exporter": "python",
   "pygments_lexer": "ipython3",
   "version": "3.7.6"
  }
 },
 "nbformat": 4,
 "nbformat_minor": 4
}
